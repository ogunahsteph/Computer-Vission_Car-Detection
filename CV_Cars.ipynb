{
 "cells": [
  {
   "cell_type": "code",
   "execution_count": 4,
   "id": "99f59db7-bc7b-4cb8-a616-b21af457d679",
   "metadata": {},
   "outputs": [],
   "source": [
    "# pip install youtube-dl\n"
   ]
  },
  {
   "cell_type": "code",
   "execution_count": 19,
   "id": "132c9fc0-0fbd-49a8-b5fa-9f5710652218",
   "metadata": {},
   "outputs": [],
   "source": [
    "\n",
    "import os\n",
    "import cv2\n",
    "import torch \n",
    "import numpy as np       \n",
    "import pandas as pd       \n",
    "import matplotlib.pyplot as plt  \n",
    "from pytube import YouTube  \n"
   ]
  },
  {
   "cell_type": "markdown",
   "id": "39f27d54-ffab-4591-8419-7acced4fffe8",
   "metadata": {},
   "source": [
    "### Loading the Video"
   ]
  },
  {
   "cell_type": "code",
   "execution_count": 20,
   "id": "9b16d9c8-fc81-448b-9ba7-629544b14d4b",
   "metadata": {},
   "outputs": [
    {
     "name": "stdout",
     "output_type": "stream",
     "text": [
      "Video Loaded successfully!\n"
     ]
    }
   ],
   "source": [
    "\n",
    "# Load and check the video\n",
    "video_path = 'Video data.mp4'  \n",
    "cap = cv2.VideoCapture(video_path)\n",
    "\n",
    "if not cap.isOpened():\n",
    "    print(\"Error: Video not Downloaded.\")\n",
    "else:\n",
    "    print(\"Video Loaded successfully!\")\n"
   ]
  },
  {
   "cell_type": "markdown",
   "id": "02b0a46d-4e37-430f-bea2-b34f2eff6b77",
   "metadata": {},
   "source": [
    "### Initial Background Subtraction and Contour Detection"
   ]
  },
  {
   "cell_type": "code",
   "execution_count": 25,
   "id": "e465e26a-732c-424f-a38f-53adffb89569",
   "metadata": {},
   "outputs": [],
   "source": [
    "\n",
    "# Initializing background subtractor\n",
    "bg_subtractor = cv2.createBackgroundSubtractorMOG2(history=500, varThreshold=100, detectShadows=True)\n",
    "cap = cv2.VideoCapture(video_path)\n",
    "\n",
    "# morphological operations\n",
    "kernel = cv2.getStructuringElement(cv2.MORPH_ELLIPSE, (5, 5))\n",
    "while cap.isOpened():\n",
    "    ret, frame = cap.read()\n",
    "    if not ret:\n",
    "        break\n",
    "    # background subtraction\n",
    "    fg_mask = bg_subtractor.apply(frame)\n",
    "    fg_mask = cv2.morphologyEx(fg_mask, cv2.MORPH_CLOSE, kernel)\n",
    "    fg_mask = cv2.morphologyEx(fg_mask, cv2.MORPH_OPEN, kernel)\n",
    "\n",
    "    contours, _ = cv2.findContours(fg_mask, cv2.RETR_EXTERNAL, cv2.CHAIN_APPROX_SIMPLE)\n",
    "    for contour in contours:\n",
    "        if cv2.contourArea(contour) > 500:\n",
    "            x, y, w, h = cv2.boundingRect(contour)\n",
    "            cv2.rectangle(frame, (x, y), (x+w, y+h), (0, 255, 0), 2)\n",
    "    # Displaying the frame with detections\n",
    "    cv2.imshow('Car Detection', frame)\n",
    "    if cv2.waitKey(1) & 0xFF == ord('q'):\n",
    "        break\n",
    "cap.release()\n",
    "cv2.destroyAllWindows()\n"
   ]
  },
  {
   "cell_type": "markdown",
   "id": "be82a1be-4f21-4c7a-94e2-3366b1df0deb",
   "metadata": {},
   "source": [
    "### Save Detected Frames"
   ]
  },
  {
   "cell_type": "code",
   "execution_count": null,
   "id": "6fced6fb-1bf7-4c32-a6a6-399bce7c0059",
   "metadata": {},
   "outputs": [],
   "source": [
    "\n",
    "# Create a directory to save detected frames\n",
    "output_dir = 'detected_frames'\n",
    "os.makedirs(output_dir, exist_ok=True)\n",
    "\n",
    "bg_subtractor = cv2.createBackgroundSubtractorMOG2()\n",
    "cap = cv2.VideoCapture(video_path)\n",
    "frame_count = 0\n",
    "while cap.isOpened():\n",
    "    ret, frame = cap.read()\n",
    "    if not ret:\n",
    "        break\n",
    "    # Applying  background subtraction\n",
    "    fg_mask = bg_subtractor.apply(frame)\n",
    "    # Find contours in the mask\n",
    "    contours, _ = cv2.findContours(fg_mask, cv2.RETR_EXTERNAL, cv2.CHAIN_APPROX_SIMPLE)\n",
    "    for contour in contours:\n",
    "        if cv2.contourArea(contour) > 500:  \n",
    "            x, y, w, h = cv2.boundingRect(contour)\n",
    "            cv2.rectangle(frame, (x, y), (x+w, y+h), (0, 255, 0), 2)\n",
    "            \n",
    "            # Save the frame with detection\n",
    "            frame_output_path = os.path.join(output_dir, f'frame_{frame_count:04d}.jpg')  # Padded frame number\n",
    "            cv2.imwrite(frame_output_path, frame)\n",
    "            frame_count += 1\n",
    "\n",
    "    # Displaying the frame with detections\n",
    "    cv2.imshow('Car Detection', frame)\n",
    "    if cv2.waitKey(1) & 0xFF == ord('q'):\n",
    "        break\n",
    "cap.release()\n",
    "cv2.destroyAllWindows()\n"
   ]
  },
  {
   "cell_type": "markdown",
   "id": "0f29bb83-c7bb-457e-9aba-7cd5aa9f5494",
   "metadata": {},
   "source": [
    "### Object Tracking with KCF Tracker"
   ]
  },
  {
   "cell_type": "code",
   "execution_count": null,
   "id": "8a2b4c87-e866-4b50-bc5a-2267f4ac1ff5",
   "metadata": {},
   "outputs": [],
   "source": [
    "\n",
    "bg_subtractor = cv2.createBackgroundSubtractorMOG2()\n",
    "cap = cv2.VideoCapture('video_path')\n",
    "\n",
    "# List to store trackers\n",
    "trackers = []\n",
    "\n",
    "while cap.isOpened():\n",
    "    ret, frame = cap.read()\n",
    "    if not ret:\n",
    "        break\n",
    "    fg_mask = bg_subtractor.apply(frame)\n",
    "    contours, _ = cv2.findContours(fg_mask, cv2.RETR_EXTERNAL, cv2.CHAIN_APPROX_SIMPLE)\n",
    "    new_trackers = []\n",
    "\n",
    "    for contour in contours:\n",
    "        if cv2.contourArea(contour) > 500:  \n",
    "            x, y, w, h = cv2.boundingRect(contour)\n",
    "            tracker = cv2.TrackerKCF_create()  \n",
    "            tracker.init(frame, (x, y, w, h))\n",
    "            new_trackers.append(tracker)\n",
    "\n",
    "    # Update all trackers and draw rectangles\n",
    "    for tracker in trackers:\n",
    "        success, box = tracker.update(frame)\n",
    "        if success:\n",
    "            (x, y, w, h) = [int(v) for v in box]\n",
    "            cv2.rectangle(frame, (x, y), (x+w, y+h), (0, 255, 0), 2)\n",
    "\n",
    "    # Update the list of trackers\n",
    "    trackers = new_trackers\n",
    "\n",
    "    # Display the frame with detections and tracking\n",
    "    cv2.imshow('Car Detection and Tracking', frame)\n",
    "\n",
    "    if cv2.waitKey(1) & 0xFF == ord('q'):\n",
    "        break\n",
    "\n",
    "cap.release()\n",
    "cv2.destroyAllWindows()\n"
   ]
  },
  {
   "cell_type": "markdown",
   "id": "ae70199e-d85d-4fb9-86c4-8e235034201c",
   "metadata": {},
   "source": [
    "### Counting the Cars"
   ]
  },
  {
   "cell_type": "code",
   "execution_count": null,
   "id": "65e4b0bd-dcc2-4942-b298-be7cc9a08006",
   "metadata": {},
   "outputs": [],
   "source": [
    "\n",
    "bg_subtractor = cv2.createBackgroundSubtractorMOG2()\n",
    "cap = cv2.VideoCapture('video_path')\n",
    "\n",
    "# Initialize tracker\n",
    "tracker = cv2.TrackerKCF_create()\n",
    "# List to store tracked objects\n",
    "tracked_objects = []\n",
    "car_count = 0\n",
    "\n",
    "while cap.isOpened():\n",
    "    ret, frame = cap.read()\n",
    "    if not ret:\n",
    "        break\n",
    "    fg_mask = bg_subtractor.apply(frame)\n",
    "    contours, _ = cv2.findContours(fg_mask, cv2.RETR_EXTERNAL, cv2.CHAIN_APPROX_SIMPLE)\n",
    "    new_objects = []\n",
    "\n",
    "    for contour in contours:\n",
    "        if cv2.contourArea(contour) > 500: \n",
    "            x, y, w, h = cv2.boundingRect(contour)\n",
    "            new_objects.append((x, y, w, h))\n",
    "\n",
    "            # Initialize a new tracker for new objects\n",
    "            tracker = cv2.TrackerKCF_create()\n",
    "            tracker.init(frame, (x, y, w, h))\n",
    "\n",
    "    # Update all trackers and count unique cars\n",
    "    for obj in tracked_objects:\n",
    "        success, box = obj[0].update(frame)\n",
    "        if success:\n",
    "            (x, y, w, h) = [int(v) for v in box]\n",
    "            cv2.rectangle(frame, (x, y), (x+w, y+h), (0, 255, 0), 2)\n",
    "        else:\n",
    "            # Remove lost trackers\n",
    "            tracked_objects.remove(obj)\n",
    "\n",
    "    # Add new objects to the tracked list\n",
    "    for obj in new_objects:\n",
    "        tracker = cv2.TrackerKCF_create()\n",
    "        tracker.init(frame, obj)\n",
    "        tracked_objects.append((tracker, obj))\n",
    "        \n",
    "    cv2.imshow('Car Detection', frame)\n",
    "    if cv2.waitKey(1) & 0xFF == ord('q'):\n",
    "        break\n",
    "\n",
    "cap.release()\n",
    "cv2.destroyAllWindows()\n",
    "\n",
    "print(f'Total number of unique cars detected: {len(tracked_objects)}')\n"
   ]
  },
  {
   "cell_type": "markdown",
   "id": "d77a198e-a383-4cb1-8562-92247c9cfaab",
   "metadata": {},
   "source": [
    "### Optimized Background Subtraction and Contour Detection"
   ]
  },
  {
   "cell_type": "code",
   "execution_count": null,
   "id": "3cc416e2-2629-4256-86da-c02ebd67b564",
   "metadata": {},
   "outputs": [],
   "source": [
    "\n",
    "# Initialize background subtractor with optimized parameters\n",
    "bg_subtractor = cv2.createBackgroundSubtractorMOG2(history=500, varThreshold=100, detectShadows=True)\n",
    "\n",
    "cap = cv2.VideoCapture('video_path')\n",
    "\n",
    "# Define minimum contour area for filtering noise\n",
    "min_contour_area = 500\n",
    "\n",
    "while cap.isOpened():\n",
    "    ret, frame = cap.read()\n",
    "    if not ret:\n",
    "        break\n",
    "    fg_mask = bg_subtractor.apply(frame)\n",
    "    contours, _ = cv2.findContours(fg_mask, cv2.RETR_EXTERNAL, cv2.CHAIN_APPROX_SIMPLE)\n",
    "\n",
    "    for contour in contours:\n",
    "        if cv2.contourArea(contour) > min_contour_area:  # Filter small contours\n",
    "            x, y, w, h = cv2.boundingRect(contour)\n",
    "            cv2.rectangle(frame, (x, y), (x+w, y+h), (0, 255, 0), 2)\n",
    "\n",
    "    # Displaying the frame with detections\n",
    "    cv2.imshow('Car Detection', frame)\n",
    "\n",
    "    if cv2.waitKey(1) & 0xFF == ord('q'):\n",
    "        break\n",
    "\n",
    "cap.release()\n",
    "cv2.destroyAllWindows()\n"
   ]
  },
  {
   "cell_type": "code",
   "execution_count": null,
   "id": "4fd38cd2-3f28-4ac4-be9e-399efc3b374e",
   "metadata": {},
   "outputs": [],
   "source": [
    "kernel = cv2.getStructuringElement(cv2.MORPH_ELLIPSE, (5, 5))\n",
    "fg_mask = cv2.morphologyEx(fg_mask, cv2.MORPH_CLOSE, kernel)\n",
    "fg_mask = cv2.morphologyEx(fg_mask, cv2.MORPH_OPEN, kernel)\n",
    "max_contour_area = 5000  # Example value\n",
    "if min_contour_area < cv2.contourArea(contour) < max_contour_area:\n",
    "    # Proceed with contour processing\n"
   ]
  },
  {
   "cell_type": "code",
   "execution_count": null,
   "id": "644cde46-432d-4fed-a31e-f270a9ad81f7",
   "metadata": {},
   "outputs": [],
   "source": [
    "max_contour_area = 5000  # Example value\n",
    "if min_contour_area < cv2.contourArea(contour) < max_contour_area:\n",
    "    # Proceed with contour processing..........................................\n"
   ]
  }
 ],
 "metadata": {
  "kernelspec": {
   "display_name": "Python 3 (ipykernel)",
   "language": "python",
   "name": "python3"
  },
  "language_info": {
   "codemirror_mode": {
    "name": "ipython",
    "version": 3
   },
   "file_extension": ".py",
   "mimetype": "text/x-python",
   "name": "python",
   "nbconvert_exporter": "python",
   "pygments_lexer": "ipython3",
   "version": "3.12.4"
  }
 },
 "nbformat": 4,
 "nbformat_minor": 5
}
